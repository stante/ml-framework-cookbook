{
 "cells": [
  {
   "cell_type": "markdown",
   "metadata": {},
   "source": [
    "# Reading images from disk for a classification task\n",
    "## Problem\n",
    "You want to read images from disk for a classification task. Each image belongs to exactly one class."
   ]
  },
  {
   "cell_type": "markdown",
   "metadata": {},
   "source": [
    "## Solution TensorFlow\n",
    "\n",
    "Images are are read from the filesystem with the `ImageDataGenerator` class from the `tensorflow.keras.preprocesing.image` module. The class expects the following layout on the filesystem to correctly assign labels.\n",
    "```\n",
    "root/class1/aaa.png\n",
    "root/class1/bbb.png\n",
    "...\n",
    "root/class2/aaa.png\n",
    "root/class2/bbb.png\n",
    "```\n",
    "A root directory contains subfolder for each class which contains the images. When the class is instantiated different image augmentations and transformations can be specified (e.g. `rescale=1/255` to scale the pixel values between 0.0 and 1.0). The `flow_from_directory` method creates a generator that is used to train the model with the model's `fit_generator` method. The `flow_from_directory` method takes among others, arguments to specify the root directory of the dataset and the batch size."
   ]
  },
  {
   "cell_type": "code",
   "execution_count": 1,
   "metadata": {},
   "outputs": [
    {
     "name": "stdout",
     "output_type": "stream",
     "text": [
      "Found 5 images belonging to 2 classes.\n"
     ]
    }
   ],
   "source": [
    "from tensorflow.keras.preprocessing.image import ImageDataGenerator\n",
    "\n",
    "datagen = ImageDataGenerator(rescale=1/255)\n",
    "train_generator = datagen.flow_from_directory('/tmp/dataset', batch_size=16)\n",
    "\n",
    "# The generator is used with the model's fit_generator function\n",
    "# model.fit_generator(train_generator)"
   ]
  },
  {
   "cell_type": "markdown",
   "metadata": {},
   "source": [
    "## Solution PyTorch\n",
    "The `torchvision` package comes with a class `ImageFolder` which loads images from disk and assigns labels to them. The class expects the follwing layout on the filesystem.\n",
    "```\n",
    "root/class1/aaa.png\n",
    "root/class1/bbb.png\n",
    "...\n",
    "root/class2/aaa.png\n",
    "root/class2/bbb.png\n",
    "```\n",
    "A root directory contains subfolder for each class which contains the images. The supported file formats are .jpg,.jpeg,.png,.ppm,.bmp,.pgm, and .tif.\n"
   ]
  },
  {
   "cell_type": "code",
   "execution_count": 2,
   "metadata": {},
   "outputs": [],
   "source": [
    "from torchvision.datasets import ImageFolder\n",
    "from torch.utils.data import DataLoader\n",
    "import torchvision.transforms as transforms\n",
    "\n",
    "dataset = ImageFolder('/tmp/dataset', transform=transforms.ToTensor())\n",
    "dataloader = DataLoader(dataset)\n",
    "\n",
    "for images, labels in dataloader:\n",
    "    # Training loop\n",
    "    pass"
   ]
  },
  {
   "cell_type": "markdown",
   "metadata": {},
   "source": [
    "The labels are numeric tensors where each class is assigned a number in alphabetical order. The transform argument specifies what transformations to apply to the images. In this example, it only transforms an image into a tensor. However, more complex transformation chains can be defined."
   ]
  }
 ],
 "metadata": {
  "kernelspec": {
   "display_name": "Python 3",
   "language": "python",
   "name": "python3"
  },
  "language_info": {
   "codemirror_mode": {
    "name": "ipython",
    "version": 3
   },
   "file_extension": ".py",
   "mimetype": "text/x-python",
   "name": "python",
   "nbconvert_exporter": "python",
   "pygments_lexer": "ipython3",
   "version": "3.7.3"
  }
 },
 "nbformat": 4,
 "nbformat_minor": 2
}
